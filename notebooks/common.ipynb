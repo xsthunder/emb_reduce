{
 "cells": [
  {
   "cell_type": "code",
   "execution_count": 2,
   "metadata": {
    "ExecuteTime": {
     "end_time": "2020-03-24T09:34:15.492847Z",
     "start_time": "2020-03-24T09:34:15.467840Z"
    }
   },
   "outputs": [],
   "source": [
    "#export\n",
    "from x_lib.common import Export_notebook\n",
    "export_notebook = Export_notebook('jupyter_dev_template', working_dir_tag='notebooks')"
   ]
  },
  {
   "cell_type": "code",
   "execution_count": null,
   "metadata": {
    "ExecuteTime": {
     "start_time": "2020-03-24T09:34:15.865Z"
    }
   },
   "outputs": [
    {
     "data": {
      "application/javascript": [
       "IPython.notebook.save_checkpoint();"
      ],
      "text/plain": [
       "<IPython.core.display.Javascript object>"
      ]
     },
     "metadata": {},
     "output_type": "display_data"
    },
    {
     "name": "stdout",
     "output_type": "stream",
     "text": [
      "Converted common.ipynb to C:\\Users\\xiaos\\jupyter-ws\\git\\jupyter_dev_template\\jupyter_dev_template\\common.py\n",
      "Converted common.ipynb to C:\\Users\\xiaos\\jupyter-ws\\git\\jupyter_dev_template\\tests\\test_common.py\n"
     ]
    }
   ],
   "source": [
    "export_notebook('common')"
   ]
  },
  {
   "cell_type": "code",
   "execution_count": null,
   "metadata": {},
   "outputs": [],
   "source": []
  }
 ],
 "metadata": {
  "kernelspec": {
   "display_name": "Python 3",
   "language": "python",
   "name": "python3"
  },
  "language_info": {
   "codemirror_mode": {
    "name": "ipython",
    "version": 3
   },
   "file_extension": ".py",
   "mimetype": "text/x-python",
   "name": "python",
   "nbconvert_exporter": "python",
   "pygments_lexer": "ipython3",
   "version": "3.7.4"
  }
 },
 "nbformat": 4,
 "nbformat_minor": 2
}
