{
 "cells": [
  {
   "cell_type": "markdown",
   "metadata": {},
   "source": [
    "# Usage\n",
    "\n",
    "retrive word emb from large word emb\n",
    "\n",
    "```\n",
    "python sys.argv[0] --fword wordlist --femb word_emb_file --fout reduced_emb_file\n",
    "```\n",
    "\n",
    "## require\n",
    "\n",
    "fire, tqdm\n",
    "\n",
    "## wordlist\n",
    "\n",
    "relatively small\n",
    "\n",
    "each word perline\n",
    "\n",
    "## word_emb_file\n",
    "\n",
    "very large\n",
    "\n",
    "optional `wordnum:num emb_dim:num` for the first line, Tencent for example. glove doesnt have this line\n",
    "\n",
    "`word:num dim0 dim1 [<dim2, >]` for rest\n",
    "\n",
    "read until empty line"
   ]
  },
  {
   "cell_type": "code",
   "execution_count": 1,
   "metadata": {
    "ExecuteTime": {
     "end_time": "2020-10-25T03:46:31.155001Z",
     "start_time": "2020-10-25T03:46:31.086287Z"
    }
   },
   "outputs": [],
   "source": [
    "import sys\n",
    "if __name__ == '__main__': sys.path.append('..')\n",
    "from reduce_emb.common import export_notebook"
   ]
  },
  {
   "cell_type": "code",
   "execution_count": 2,
   "metadata": {
    "ExecuteTime": {
     "end_time": "2020-10-25T03:46:31.161336Z",
     "start_time": "2020-10-25T03:46:31.157912Z"
    }
   },
   "outputs": [],
   "source": [
    "#export\n",
    "from xs_lib.common import tqdm\n",
    "import xs_lib"
   ]
  },
  {
   "cell_type": "code",
   "execution_count": 3,
   "metadata": {
    "ExecuteTime": {
     "end_time": "2020-10-25T03:46:31.171770Z",
     "start_time": "2020-10-25T03:46:31.164158Z"
    }
   },
   "outputs": [],
   "source": [
    "#export\n",
    "class ReadlineIter:\n",
    "    def __init__(self, fp, _len=None, raise_on_unmatch_len=False):\n",
    "        self.fp = fp\n",
    "        self._len = _len\n",
    "        self.cnt = 0\n",
    "        self.raise_on_unmatch_len = raise_on_unmatch_len\n",
    "        if _len is not None: assert isinstance(_len, int), f\"len '{_len}' must be int\"\n",
    "    def __next__(self):\n",
    "        line = self.fp.readline()\n",
    "        if len(line) == 0:\n",
    "            if self._len is not None and self.cnt != self._len:\n",
    "                print(f\"WARNING: in ReadlineIter line cnt {self.cnt} dont match passed len {self._len}\")\n",
    "                if self.raise_on_unmatch_len:\n",
    "                    assert self.cnt == self._len, f\"line cnt {self.cnt} dont match passed len {self._len}\"\n",
    "            raise StopIteration\n",
    "        self.cnt += 1\n",
    "        return line\n",
    "    def __iter__(self):\n",
    "        return self\n",
    "    def __len__(self):\n",
    "        return self._len"
   ]
  },
  {
   "cell_type": "code",
   "execution_count": 4,
   "metadata": {
    "ExecuteTime": {
     "end_time": "2020-10-25T03:46:31.176501Z",
     "start_time": "2020-10-25T03:46:31.173722Z"
    }
   },
   "outputs": [],
   "source": [
    "# emb_file = '/home/zengjianjun/jupyter-ws/sematic/emb-open/Tencent_AILab_ChineseEmbedding/Tencent_AILab_ChineseEmbedding.txt'"
   ]
  },
  {
   "cell_type": "markdown",
   "metadata": {
    "heading_collapsed": true
   },
   "source": [
    "### test files"
   ]
  },
  {
   "cell_type": "code",
   "execution_count": 5,
   "metadata": {
    "ExecuteTime": {
     "end_time": "2020-10-25T03:46:31.185768Z",
     "start_time": "2020-10-25T03:46:31.178640Z"
    },
    "hidden": true
   },
   "outputs": [],
   "source": [
    "#test_export\n",
    "test_emb_file = \"./test_emb_file.txt\"\n",
    "with open(test_emb_file, \"w\") as fp:\n",
    "    fp.write(\"\"\"3 3\n",
    "a 1.0 2.0 3.0\n",
    "b 1.0 2.0 3.0\n",
    "c 1.0 2.0 3.0\"\"\")\n",
    "emb_file = test_emb_file"
   ]
  },
  {
   "cell_type": "code",
   "execution_count": 6,
   "metadata": {
    "ExecuteTime": {
     "end_time": "2020-10-25T03:46:31.191978Z",
     "start_time": "2020-10-25T03:46:31.188914Z"
    },
    "hidden": true
   },
   "outputs": [],
   "source": [
    "#test_export\n",
    "emb_fp = open(emb_file, 'r')"
   ]
  },
  {
   "cell_type": "code",
   "execution_count": 7,
   "metadata": {
    "ExecuteTime": {
     "end_time": "2020-10-25T03:46:31.243420Z",
     "start_time": "2020-10-25T03:46:31.194433Z"
    },
    "hidden": true
   },
   "outputs": [
    {
     "data": {
      "application/vnd.jupyter.widget-view+json": {
       "model_id": "a9d8bdcff61f4c00bc865ef747111175",
       "version_major": 2,
       "version_minor": 0
      },
      "text/plain": [
       "HBox(children=(HTML(value=''), FloatProgress(value=0.0, max=4.0), HTML(value='')))"
      ]
     },
     "metadata": {},
     "output_type": "display_data"
    },
    {
     "name": "stdout",
     "output_type": "stream",
     "text": [
      "3 3\n",
      "a 1.0 2.0 3.0\n",
      "b 1.0 2.0 3.0\n",
      "c 1.0 2.0 3.0\n"
     ]
    }
   ],
   "source": [
    "#test_export\n",
    "emb_fp.seek(0)\n",
    "for i in tqdm(ReadlineIter(emb_fp, 4)):\n",
    "    print(i, end='')"
   ]
  },
  {
   "cell_type": "code",
   "execution_count": 8,
   "metadata": {
    "ExecuteTime": {
     "end_time": "2020-10-25T03:46:31.252233Z",
     "start_time": "2020-10-25T03:46:31.245371Z"
    },
    "hidden": true
   },
   "outputs": [],
   "source": [
    "#test_export\n",
    "test_fword_list='./test_fword_list.txt'\n",
    "with open(test_fword_list, \"w\") as fp:\n",
    "    fp.write(\"\"\"a\n",
    "c\"\"\")\n",
    "fword_list = test_fword_list"
   ]
  },
  {
   "cell_type": "markdown",
   "metadata": {
    "ExecuteTime": {
     "end_time": "2020-10-25T02:33:59.977186Z",
     "start_time": "2020-10-25T02:33:59.969406Z"
    },
    "heading_collapsed": true
   },
   "source": [
    "### get_word_set"
   ]
  },
  {
   "cell_type": "code",
   "execution_count": 9,
   "metadata": {
    "ExecuteTime": {
     "end_time": "2020-10-25T03:46:31.298294Z",
     "start_time": "2020-10-25T03:46:31.254117Z"
    },
    "hidden": true
   },
   "outputs": [
    {
     "name": "stdout",
     "output_type": "stream",
     "text": [
      "reading ./test_fword_list.txt\n"
     ]
    },
    {
     "data": {
      "application/vnd.jupyter.widget-view+json": {
       "model_id": "ab273e31254145b09142c5d4b4233ef4",
       "version_major": 2,
       "version_minor": 0
      },
      "text/plain": [
       "HBox(children=(HTML(value=''), FloatProgress(value=1.0, bar_style='info', layout=Layout(width='20px'), max=1.0…"
      ]
     },
     "metadata": {},
     "output_type": "display_data"
    },
    {
     "name": "stdout",
     "output_type": "stream",
     "text": [
      "\n"
     ]
    }
   ],
   "source": [
    "#test_export\n",
    "print(f\"reading {fword_list}\")\n",
    "word_set = set()\n",
    "with open(fword_list, \"r\") as fp:\n",
    "    readlineIter = ReadlineIter(fp)\n",
    "    for word in tqdm(readlineIter):\n",
    "        word = word.strip()\n",
    "        word_set.add(word)"
   ]
  },
  {
   "cell_type": "code",
   "execution_count": 10,
   "metadata": {
    "ExecuteTime": {
     "end_time": "2020-10-25T03:46:31.304204Z",
     "start_time": "2020-10-25T03:46:31.300003Z"
    },
    "hidden": true,
    "scrolled": true
   },
   "outputs": [],
   "source": [
    "#export\n",
    "def get_word_set(fword_list):\n",
    "    print(f\"reading {fword_list}\")\n",
    "    word_set = set()\n",
    "    with open(fword_list, \"r\") as fp:\n",
    "        readlineIter = ReadlineIter(fp)\n",
    "        for word in tqdm(readlineIter):\n",
    "            word = word.strip()\n",
    "            word_set.add(word)\n",
    "    return word_set"
   ]
  },
  {
   "cell_type": "markdown",
   "metadata": {},
   "source": [
    "### output & emb"
   ]
  },
  {
   "cell_type": "code",
   "execution_count": 11,
   "metadata": {
    "ExecuteTime": {
     "end_time": "2020-10-25T03:46:31.310271Z",
     "start_time": "2020-10-25T03:46:31.306015Z"
    }
   },
   "outputs": [],
   "source": [
    "#export\n",
    "def getEmbReadlineIter(emb_fp):\n",
    "    embReadlineIter = None\n",
    "    try:\n",
    "        emb_word_cnt, dim = emb_fp.readline().split()\n",
    "        emb_word_cnt = int(emb_word_cnt)\n",
    "        print(f\"emb_file has {emb_word_cnt} and {dim} dim according to first line\")\n",
    "        embReadlineIter = ReadlineIter(emb_fp, emb_word_cnt)\n",
    "    except :\n",
    "        emb_fp.seek(0)\n",
    "        embReadlineIter = ReadlineIter(emb_fp)\n",
    "    return embReadlineIter "
   ]
  },
  {
   "cell_type": "code",
   "execution_count": 12,
   "metadata": {
    "ExecuteTime": {
     "end_time": "2020-10-25T03:46:31.317470Z",
     "start_time": "2020-10-25T03:46:31.312319Z"
    }
   },
   "outputs": [],
   "source": [
    "#test_export\n",
    "fout = 'output.emb.txt'\n",
    "fpout = open(fout, 'w')"
   ]
  },
  {
   "cell_type": "code",
   "execution_count": 13,
   "metadata": {
    "ExecuteTime": {
     "end_time": "2020-10-25T03:46:31.325886Z",
     "start_time": "2020-10-25T03:46:31.319341Z"
    }
   },
   "outputs": [
    {
     "name": "stdout",
     "output_type": "stream",
     "text": [
      "emb_file has 8824330 and 200 dim according to first line\n"
     ]
    }
   ],
   "source": [
    "emb_fp = open(\"../tests/Tencent_AILab_ChineseEmbedding_sample.txt\", \"r\")\n",
    "emb_word_cnt, dim = emb_fp.readline().split()\n",
    "emb_word_cnt = int(emb_word_cnt)\n",
    "print(f\"emb_file has {emb_word_cnt} and {dim} dim according to first line\")\n",
    "embReadlineIter = ReadlineIter(emb_fp, emb_word_cnt)"
   ]
  },
  {
   "cell_type": "code",
   "execution_count": 14,
   "metadata": {
    "ExecuteTime": {
     "end_time": "2020-10-25T03:46:31.342810Z",
     "start_time": "2020-10-25T03:46:31.327680Z"
    }
   },
   "outputs": [
    {
     "name": "stdout",
     "output_type": "stream",
     "text": [
      "emb_file has 8824330 and 200 dim according to first line\n"
     ]
    },
    {
     "data": {
      "text/plain": [
       "<__main__.ReadlineIter at 0x7fb1382db910>"
      ]
     },
     "execution_count": 14,
     "metadata": {},
     "output_type": "execute_result"
    }
   ],
   "source": [
    "emb_fp = open(\"../tests/Tencent_AILab_ChineseEmbedding_sample.txt\", \"r\")\n",
    "getEmbReadlineIter(emb_fp)"
   ]
  },
  {
   "cell_type": "code",
   "execution_count": 15,
   "metadata": {
    "ExecuteTime": {
     "end_time": "2020-10-25T03:46:31.388297Z",
     "start_time": "2020-10-25T03:46:31.344707Z"
    }
   },
   "outputs": [
    {
     "name": "stdout",
     "output_type": "stream",
     "text": [
      "reading emb_file:'f./test_emb_file.txt'\n",
      "emb_file:'./test_emb_file.txt' has 8824330 and 200 dim according to first line\n"
     ]
    },
    {
     "data": {
      "application/vnd.jupyter.widget-view+json": {
       "model_id": "df1b4d07f7704867a00fa71430730b58",
       "version_major": 2,
       "version_minor": 0
      },
      "text/plain": [
       "HBox(children=(HTML(value=''), FloatProgress(value=0.0, max=8824330.0), HTML(value='')))"
      ]
     },
     "metadata": {},
     "output_type": "display_data"
    },
    {
     "name": "stdout",
     "output_type": "stream",
     "text": [
      "WARNING: in ReadlineIter line cnt 9 dont match passed len 8824330\n",
      "\n"
     ]
    }
   ],
   "source": [
    "#test_export\n",
    "emb_fp.seek(0)\n",
    "embReadlineIter = None\n",
    "print(f\"reading emb_file:'f{emb_file}'\")\n",
    "try:\n",
    "    emb_word_cnt, dim = emb_fp.readline().split()\n",
    "    emb_word_cnt = int(emb_word_cnt)\n",
    "    print(f\"emb_file:'{emb_file}' has {emb_word_cnt} and {dim} dim according to first line\")\n",
    "    embReadlineIter = ReadlineIter(emb_fp, emb_word_cnt)\n",
    "except:\n",
    "    emb_fp.seek(0)\n",
    "    embReadlineIter = ReadlineIter(emb_fp)\n",
    "    \n",
    "for line in tqdm(embReadlineIter):\n",
    "    word = line[:line.index(' ')]\n",
    "    if word in word_set:\n",
    "        fpout.write(line)\n",
    "fpout.close()"
   ]
  },
  {
   "cell_type": "code",
   "execution_count": 16,
   "metadata": {
    "ExecuteTime": {
     "end_time": "2020-10-25T03:46:31.436398Z",
     "start_time": "2020-10-25T03:46:31.390137Z"
    }
   },
   "outputs": [
    {
     "name": "stdout",
     "output_type": "stream",
     "text": [
      "emb_file has 3 and 3 dim according to first line\n"
     ]
    },
    {
     "data": {
      "application/vnd.jupyter.widget-view+json": {
       "model_id": "d7de402a21624055a8ee77f593d541a5",
       "version_major": 2,
       "version_minor": 0
      },
      "text/plain": [
       "HBox(children=(HTML(value=''), FloatProgress(value=0.0, max=3.0), HTML(value='')))"
      ]
     },
     "metadata": {},
     "output_type": "display_data"
    },
    {
     "name": "stdout",
     "output_type": "stream",
     "text": [
      "\n"
     ]
    }
   ],
   "source": [
    "#test_export\n",
    "emb_fp = open(emb_file, \"r\")\n",
    "embReadlineIter = getEmbReadlineIter(emb_fp)\n",
    "\n",
    "fout = 'output.emb.txt'\n",
    "fpout = open(fout, 'w')\n",
    "\n",
    "for line in tqdm(embReadlineIter):\n",
    "    word = line[:line.index(' ')]\n",
    "    if word in word_set:\n",
    "        fpout.write(line)\n",
    "fpout.close()"
   ]
  },
  {
   "cell_type": "markdown",
   "metadata": {},
   "source": [
    "### main"
   ]
  },
  {
   "cell_type": "code",
   "execution_count": 27,
   "metadata": {
    "ExecuteTime": {
     "end_time": "2020-10-25T06:32:06.476415Z",
     "start_time": "2020-10-25T06:32:06.464309Z"
    }
   },
   "outputs": [],
   "source": [
    "#export\n",
    "def main(femb, fword, fout):\n",
    "    emb_fp = open(femb, \"r\")\n",
    "    print(f\"reading emb_file:'{femb}'\")\n",
    "    embReadlineIter = getEmbReadlineIter(emb_fp)\n",
    "    word_set = get_word_set(fword)\n",
    "    print(f\"word_set: {len(word_set)} word_read\")\n",
    "    fpout = open(fout, 'w')\n",
    "    cnt = 0\n",
    "    for line in tqdm(embReadlineIter):\n",
    "        word = line[:line.index(' ')]\n",
    "        if word in word_set:\n",
    "            fpout.write(line)\n",
    "            cnt += 1\n",
    "    print(f\"{cnt} word emb found, total {len(word_set)} word\")\n",
    "    fpout.close()"
   ]
  },
  {
   "cell_type": "code",
   "execution_count": 28,
   "metadata": {
    "ExecuteTime": {
     "end_time": "2020-10-25T06:32:07.130726Z",
     "start_time": "2020-10-25T06:32:07.039811Z"
    }
   },
   "outputs": [
    {
     "name": "stdout",
     "output_type": "stream",
     "text": [
      "reading emb_file:'./test_emb_file.txt'\n",
      "emb_file has 3 and 3 dim according to first line\n",
      "reading ./test_fword_list.txt\n"
     ]
    },
    {
     "data": {
      "application/vnd.jupyter.widget-view+json": {
       "model_id": "edd64cc2ae1347e1ad069a8733bed061",
       "version_major": 2,
       "version_minor": 0
      },
      "text/plain": [
       "HBox(children=(HTML(value=''), FloatProgress(value=1.0, bar_style='info', layout=Layout(width='20px'), max=1.0…"
      ]
     },
     "metadata": {},
     "output_type": "display_data"
    },
    {
     "name": "stdout",
     "output_type": "stream",
     "text": [
      "\n",
      "word_set: 2 word_read\n"
     ]
    },
    {
     "data": {
      "application/vnd.jupyter.widget-view+json": {
       "model_id": "d7e31cd11ed842acbac65f4c3a367eec",
       "version_major": 2,
       "version_minor": 0
      },
      "text/plain": [
       "HBox(children=(HTML(value=''), FloatProgress(value=0.0, max=3.0), HTML(value='')))"
      ]
     },
     "metadata": {},
     "output_type": "display_data"
    },
    {
     "name": "stdout",
     "output_type": "stream",
     "text": [
      "\n",
      "2 word emb found, total 2 word\n"
     ]
    }
   ],
   "source": [
    "#test_export\n",
    "test_main_output = 'test_main_output.txt'\n",
    "main(test_emb_file, test_fword_list, test_main_output)"
   ]
  },
  {
   "cell_type": "code",
   "execution_count": 19,
   "metadata": {
    "ExecuteTime": {
     "end_time": "2020-10-25T03:46:32.166668Z",
     "start_time": "2020-10-25T03:46:31.533164Z"
    }
   },
   "outputs": [
    {
     "name": "stdout",
     "output_type": "stream",
     "text": [
      "a 1.0 2.0 3.0\r\n",
      "c 1.0 2.0 3.0"
     ]
    }
   ],
   "source": [
    "!cat {test_main_output}"
   ]
  },
  {
   "cell_type": "markdown",
   "metadata": {
    "ExecuteTime": {
     "end_time": "2020-10-25T02:42:57.005127Z",
     "start_time": "2020-10-25T02:42:57.000224Z"
    }
   },
   "source": [
    "### fire main"
   ]
  },
  {
   "cell_type": "code",
   "execution_count": 25,
   "metadata": {
    "ExecuteTime": {
     "end_time": "2020-10-25T03:50:23.048879Z",
     "start_time": "2020-10-25T03:50:23.043089Z"
    }
   },
   "outputs": [],
   "source": [
    "#export\n",
    "import fire\n",
    "if not xs_lib.common.IN_JUPYTER and __name__==\"__main__\":\n",
    "    fire.Fire(main)"
   ]
  },
  {
   "cell_type": "code",
   "execution_count": null,
   "metadata": {
    "ExecuteTime": {
     "start_time": "2020-10-25T06:32:12.328Z"
    }
   },
   "outputs": [
    {
     "data": {
      "application/javascript": [
       "IPython.notebook.save_checkpoint();"
      ],
      "text/plain": [
       "<IPython.core.display.Javascript object>"
      ]
     },
     "metadata": {},
     "output_type": "display_data"
    },
    {
     "name": "stdout",
     "output_type": "stream",
     "text": [
      "Converted reduce_emb.ipynb to /data/zengjianjun/jupyter-ws/sematic/emb-open/reduce_emb/reduce_emb/reduce_emb.py\n",
      "Converted reduce_emb.ipynb to /data/zengjianjun/jupyter-ws/sematic/emb-open/reduce_emb/tests/test_reduce_emb.py\n"
     ]
    }
   ],
   "source": [
    "export_notebook('reduce_emb.ipynb')"
   ]
  },
  {
   "cell_type": "code",
   "execution_count": 23,
   "metadata": {
    "ExecuteTime": {
     "end_time": "2020-10-25T03:50:13.051216Z",
     "start_time": "2020-10-25T03:50:13.042498Z"
    }
   },
   "outputs": [
    {
     "data": {
      "text/plain": [
       "'__main__'"
      ]
     },
     "execution_count": 23,
     "metadata": {},
     "output_type": "execute_result"
    }
   ],
   "source": [
    "__name__"
   ]
  }
 ],
 "metadata": {
  "kernelspec": {
   "display_name": "Python (crfpar)",
   "language": "python",
   "name": "crfpar"
  },
  "language_info": {
   "codemirror_mode": {
    "name": "ipython",
    "version": 3
   },
   "file_extension": ".py",
   "mimetype": "text/x-python",
   "name": "python",
   "nbconvert_exporter": "python",
   "pygments_lexer": "ipython3",
   "version": "3.7.8"
  },
  "toc": {
   "base_numbering": 1,
   "nav_menu": {},
   "number_sections": true,
   "sideBar": true,
   "skip_h1_title": false,
   "title_cell": "Table of Contents",
   "title_sidebar": "Contents",
   "toc_cell": false,
   "toc_position": {},
   "toc_section_display": true,
   "toc_window_display": false
  }
 },
 "nbformat": 4,
 "nbformat_minor": 2
}
